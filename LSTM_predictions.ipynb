{
  "nbformat": 4,
  "nbformat_minor": 0,
  "metadata": {
    "colab": {
      "name": "Copy of LSTM predictions.ipynb",
      "provenance": [],
      "private_outputs": true
    },
    "kernelspec": {
      "name": "python3",
      "display_name": "Python 3"
    }
  },
  "cells": [
    {
      "cell_type": "code",
      "metadata": {
        "id": "8YqoGiFJYgzq",
        "colab_type": "code",
        "colab": {}
      },
      "source": [
        "# !pip install quandl\n",
        "# import quandl"
      ],
      "execution_count": null,
      "outputs": []
    },
    {
      "cell_type": "code",
      "metadata": {
        "id": "YmPUbqQRtTi4",
        "colab_type": "code",
        "colab": {}
      },
      "source": [
        "import pandas as pd\n",
        "import numpy as np\n",
        "import datetime as dt\n",
        "from pandas_datareader import get_data_yahoo as gd_y\n",
        "#importing required libraries\n",
        "from sklearn.preprocessing import MinMaxScaler\n",
        "from keras.models import Sequential\n",
        "from keras.layers import Dense, Dropout, LSTM\n",
        "from matplotlib import pyplot"
      ],
      "execution_count": null,
      "outputs": []
    },
    {
      "cell_type": "code",
      "metadata": {
        "id": "WPnI4joacKOn",
        "colab_type": "code",
        "colab": {}
      },
      "source": [
        "start = dt.datetime(2005, 1, 1)\n",
        "end = dt.datetime(2020, 8, 21)\n",
        "# end = dt.date.today()\n",
        "df = gd_y('^NSEI',start,end)[\"Adj Close\"]\n",
        "df = pd.DataFrame(df)\n",
        "\n",
        "seq_length = 1000"
      ],
      "execution_count": null,
      "outputs": []
    },
    {
      "cell_type": "code",
      "metadata": {
        "id": "q7KpUwf2x9pb",
        "colab_type": "code",
        "colab": {}
      },
      "source": [
        "x = np.array(df['Adj Close'])\n",
        "y = np.array(df.index)\n",
        "df1 = pd.DataFrame(x, columns=['Close'])\n",
        "df2=pd.DataFrame(y, columns=['Date'])\n",
        "df = pd.concat([df1,df2], axis=1)\n",
        "df.set_index('Date')"
      ],
      "execution_count": null,
      "outputs": []
    },
    {
      "cell_type": "code",
      "metadata": {
        "id": "gmUH7NNhAjOD",
        "colab_type": "code",
        "colab": {}
      },
      "source": [
        "#creating dataframe\n",
        "data = df.sort_index(ascending=True, axis=0)\n",
        "new_data = pd.DataFrame(index=range(0,len(df)),columns=['Date', 'Close'])\n",
        "for i in range(0,len(data)):\n",
        "    new_data['Date'][i] = data['Date'][i]\n",
        "    new_data['Close'][i] = data['Close'][i]\n"
      ],
      "execution_count": null,
      "outputs": []
    },
    {
      "cell_type": "code",
      "metadata": {
        "id": "C4iTG4rGArkq",
        "colab_type": "code",
        "colab": {}
      },
      "source": [
        "#setting index\n",
        "new_data.index = new_data.Date\n",
        "new_data.drop('Date', axis=1, inplace=True)"
      ],
      "execution_count": null,
      "outputs": []
    },
    {
      "cell_type": "code",
      "metadata": {
        "id": "QFfUQ6q_BFEu",
        "colab_type": "code",
        "colab": {}
      },
      "source": [
        "#creating train and test sets\n",
        "dataset = new_data.values\n",
        "\n",
        "\n",
        "train = dataset[0:(dataset.shape[0] - seq_length),:]\n",
        "valid = dataset[(dataset.shape[0] - seq_length):,:]"
      ],
      "execution_count": null,
      "outputs": []
    },
    {
      "cell_type": "code",
      "metadata": {
        "id": "qim7M-qDgJMC",
        "colab_type": "code",
        "colab": {}
      },
      "source": [
        "valid.shape"
      ],
      "execution_count": null,
      "outputs": []
    },
    {
      "cell_type": "code",
      "metadata": {
        "id": "p6JfcpmaBG4y",
        "colab_type": "code",
        "colab": {}
      },
      "source": [
        "#converting dataset into x_train and y_train\n",
        "scaler = MinMaxScaler(feature_range=(0, 1))\n",
        "scaled_data = scaler.fit_transform(dataset)"
      ],
      "execution_count": null,
      "outputs": []
    },
    {
      "cell_type": "code",
      "metadata": {
        "id": "Ys188KSFghaT",
        "colab_type": "code",
        "colab": {}
      },
      "source": [
        "scaled_data"
      ],
      "execution_count": null,
      "outputs": []
    },
    {
      "cell_type": "code",
      "metadata": {
        "id": "WY5754OPBPxo",
        "colab_type": "code",
        "colab": {}
      },
      "source": [
        "x_train, y_train = [], []\n",
        "for i in range(seq_length,len(train)):\n",
        "    x_train.append(scaled_data[i-seq_length:i,0])\n",
        "    y_train.append(scaled_data[i,0])\n",
        "x_train, y_train = np.array(x_train), np.array(y_train)"
      ],
      "execution_count": null,
      "outputs": []
    },
    {
      "cell_type": "code",
      "metadata": {
        "id": "XExWmoxABi-Q",
        "colab_type": "code",
        "colab": {}
      },
      "source": [
        "x_train = np.reshape(x_train, (x_train.shape[0],x_train.shape[1],1))"
      ],
      "execution_count": null,
      "outputs": []
    },
    {
      "cell_type": "code",
      "metadata": {
        "id": "NImuMrWzBzcx",
        "colab_type": "code",
        "colab": {}
      },
      "source": [
        "# create and fit the LSTM network\n",
        "model = Sequential()\n",
        "model.add(LSTM(units=50, return_sequences=True, input_shape=(x_train.shape[1],1)))\n",
        "model.add(LSTM(units=50))\n",
        "model.add(Dense(1))\n",
        "\n",
        "model.compile(loss='mean_squared_error', optimizer='adam')"
      ],
      "execution_count": null,
      "outputs": []
    },
    {
      "cell_type": "code",
      "metadata": {
        "id": "Z9yC2bFJDBfo",
        "colab_type": "code",
        "colab": {}
      },
      "source": [
        "model.fit(x_train, y_train, validation_split=.2, epochs=3, batch_size=16, verbose=1)"
      ],
      "execution_count": null,
      "outputs": []
    },
    {
      "cell_type": "markdown",
      "metadata": {
        "id": "-H0Vq8_cQT1V",
        "colab_type": "text"
      },
      "source": [
        "## Prediction on Current *Data*"
      ]
    },
    {
      "cell_type": "code",
      "metadata": {
        "id": "iFs0iskXNU8Z",
        "colab_type": "code",
        "colab": {}
      },
      "source": [
        "#predicting 1 value, using past seq_length from the train data\n",
        "inputs = new_data[len(new_data) - len(valid) - seq_length:].values\n",
        "inputs = inputs.reshape(-1,1)\n",
        "inputs  = scaler.transform(inputs)\n"
      ],
      "execution_count": null,
      "outputs": []
    },
    {
      "cell_type": "code",
      "metadata": {
        "id": "qXt1J0TZDqFr",
        "colab_type": "code",
        "colab": {}
      },
      "source": [
        "X_test = []\n",
        "for i in range(seq_length,inputs.shape[0]):\n",
        "    X_test.append(inputs[i-seq_length:i,0])\n",
        "X_test = np.array(X_test)\n",
        "X_test = np.reshape(X_test, (X_test.shape[0],X_test.shape[1],1))\n"
      ],
      "execution_count": null,
      "outputs": []
    },
    {
      "cell_type": "code",
      "metadata": {
        "id": "j_-oQehcDurL",
        "colab_type": "code",
        "colab": {}
      },
      "source": [
        "closing_price = model.predict(X_test)"
      ],
      "execution_count": null,
      "outputs": []
    },
    {
      "cell_type": "code",
      "metadata": {
        "id": "cIS9bGaHZt-A",
        "colab_type": "code",
        "colab": {}
      },
      "source": [
        "closing_price = scaler.inverse_transform(closing_price)"
      ],
      "execution_count": null,
      "outputs": []
    },
    {
      "cell_type": "markdown",
      "metadata": {
        "id": "tlr8FD5GQmax",
        "colab_type": "text"
      },
      "source": [
        "# Tomorrow's Closing Price"
      ]
    },
    {
      "cell_type": "code",
      "metadata": {
        "id": "RBU0aVMLPfnD",
        "colab_type": "code",
        "colab": {}
      },
      "source": [
        "# closing_price[-1]\n",
        "# closing_price\n",
        "validation = pd.DataFrame(closing_price, columns=[\"Prediciton\"])\n",
        "validation['Actual'] = np.array(df['Close'][-1001:])\n",
        "validation"
      ],
      "execution_count": null,
      "outputs": []
    },
    {
      "cell_type": "code",
      "metadata": {
        "id": "PQC22u4la-m4",
        "colab_type": "code",
        "colab": {}
      },
      "source": [
        "rms=np.sqrt(np.mean(np.power((valid-closing_price),2)))\n"
      ],
      "execution_count": null,
      "outputs": []
    },
    {
      "cell_type": "markdown",
      "metadata": {
        "id": "LsNwzr1GQ5fD",
        "colab_type": "text"
      },
      "source": [
        "## **Plot**"
      ]
    },
    {
      "cell_type": "code",
      "metadata": {
        "id": "Is-5p7eC1ARq",
        "colab_type": "code",
        "colab": {}
      },
      "source": [
        "import matplotlib.pyplot as plt\n",
        "%matplotlib inline\n",
        "#for plotting\n",
        "train = new_data[:(dataset.shape[0] - seq_length)]\n",
        "valid = new_data[(dataset.shape[0] - seq_length):]\n",
        "valid['Predictions'] = closing_price\n",
        "\n",
        "fig, ax = plt.subplots(figsize=(20,10))\n",
        "ax.plot(train['Close'], label=\"Train\")\n",
        "ax.plot(valid['Close'], label=\"Actual\")\n",
        "ax.plot(valid['Predictions'], label=\"Predictions\")\n",
        "leg = ax.legend()"
      ],
      "execution_count": null,
      "outputs": []
    },
    {
      "cell_type": "markdown",
      "metadata": {
        "id": "SlbE1nmFmPjl",
        "colab_type": "text"
      },
      "source": [
        "## **Training on Log differences to Predict Change in Price**"
      ]
    },
    {
      "cell_type": "code",
      "metadata": {
        "id": "XoPJYyXsrNY1",
        "colab_type": "code",
        "colab": {}
      },
      "source": [
        "df1 = pd.DataFrame(df)\n",
        "df1['Log']=np.log(df1['Close'])\n",
        "df1['Log_diff'] = df1['Log'].diff(1) *100\n",
        "df1= df1.drop(columns= ['Close', 'Log'])\n",
        "df1 =  df1.dropna()\n",
        "df1"
      ],
      "execution_count": null,
      "outputs": []
    },
    {
      "cell_type": "code",
      "metadata": {
        "id": "beF8WgbUqp4G",
        "colab_type": "code",
        "colab": {}
      },
      "source": [
        "#setting index\n",
        "new_data = pd.DataFrame(df1)\n",
        "new_data.index = new_data.Date\n",
        "new_data.drop('Date', axis=1, inplace=True)"
      ],
      "execution_count": null,
      "outputs": []
    },
    {
      "cell_type": "code",
      "metadata": {
        "id": "jRCgRv5IsewR",
        "colab_type": "code",
        "colab": {}
      },
      "source": [
        "#creating train and test sets\n",
        "dataset = new_data.values\n",
        "\n",
        "train = dataset[0:(dataset.shape[0] - seq_length),:]\n",
        "valid = dataset[(dataset.shape[0] - seq_length):,:]"
      ],
      "execution_count": null,
      "outputs": []
    },
    {
      "cell_type": "code",
      "metadata": {
        "id": "3vTJ6u9u9QTA",
        "colab_type": "code",
        "colab": {}
      },
      "source": [
        "dataset"
      ],
      "execution_count": null,
      "outputs": []
    },
    {
      "cell_type": "code",
      "metadata": {
        "id": "SDfEtuTPssQA",
        "colab_type": "code",
        "colab": {}
      },
      "source": [
        "#converting dataset into x_train and y_train\n",
        "scaler = MinMaxScaler(feature_range=(0, 1))\n",
        "scaled_data = scaler.fit_transform(dataset)\n",
        "# scaled_data = dataset\n",
        "scaled_data = np.asarray(scaled_data).astype(np.float32)\n",
        "scaled_data"
      ],
      "execution_count": null,
      "outputs": []
    },
    {
      "cell_type": "code",
      "metadata": {
        "id": "8-_vnyBjtD1b",
        "colab_type": "code",
        "colab": {}
      },
      "source": [
        "x_train, y_train = [], []\n",
        "for i in range(seq_length,len(train)):\n",
        "    x_train.append(scaled_data[i-seq_length:i,0])\n",
        "    y_train.append(scaled_data[i,0])\n",
        "x_train, y_train = np.array(x_train), np.array(y_train)"
      ],
      "execution_count": null,
      "outputs": []
    },
    {
      "cell_type": "code",
      "metadata": {
        "id": "ObETYDmft5MK",
        "colab_type": "code",
        "colab": {}
      },
      "source": [
        "x_train = np.reshape(x_train, (x_train.shape[0],x_train.shape[1],1))"
      ],
      "execution_count": null,
      "outputs": []
    },
    {
      "cell_type": "code",
      "metadata": {
        "id": "jVGIX4LPt8iz",
        "colab_type": "code",
        "colab": {}
      },
      "source": [
        "# create and fit the LSTM network\n",
        "model = Sequential()\n",
        "model.add(LSTM(units=50, return_sequences=True, input_shape=(x_train.shape[1],1)))\n",
        "model.add(LSTM(units=50))\n",
        "model.add(Dense(1))\n",
        "\n",
        "model.compile(loss='mean_squared_error', optimizer='adam')"
      ],
      "execution_count": null,
      "outputs": []
    },
    {
      "cell_type": "code",
      "metadata": {
        "id": "7QYu10nTuAj7",
        "colab_type": "code",
        "colab": {}
      },
      "source": [
        "model.fit(x_train, y_train, validation_split=.2, epochs=1, batch_size=16, verbose=1)"
      ],
      "execution_count": null,
      "outputs": []
    },
    {
      "cell_type": "markdown",
      "metadata": {
        "id": "YJJKOtEPwI9q",
        "colab_type": "text"
      },
      "source": [
        "**PREDICTING ON CURRENT DATA**"
      ]
    },
    {
      "cell_type": "code",
      "metadata": {
        "id": "2t5vt6QJuJ8G",
        "colab_type": "code",
        "colab": {}
      },
      "source": [
        "#predicting 1 value, using past seq_length from the train data\n",
        "inputs = new_data[len(new_data) - len(valid) - seq_length:].values\n",
        "inputs = inputs.reshape(-1,1)\n",
        "inputs  = scaler.transform(inputs)"
      ],
      "execution_count": null,
      "outputs": []
    },
    {
      "cell_type": "code",
      "metadata": {
        "id": "86ASiRhnwOPK",
        "colab_type": "code",
        "colab": {}
      },
      "source": [
        "X_test = []\n",
        "for i in range(seq_length,inputs.shape[0]):\n",
        "    X_test.append(inputs[i-seq_length:i,0])\n",
        "X_test = np.array(X_test)\n",
        "X_test = np.reshape(X_test, (X_test.shape[0],X_test.shape[1],1))\n"
      ],
      "execution_count": null,
      "outputs": []
    },
    {
      "cell_type": "code",
      "metadata": {
        "id": "QO13ZlQg7Bc4",
        "colab_type": "code",
        "colab": {}
      },
      "source": [
        "Log_diff = model.predict(X_test)"
      ],
      "execution_count": null,
      "outputs": []
    },
    {
      "cell_type": "code",
      "metadata": {
        "id": "a_XOt_ZE7HGg",
        "colab_type": "code",
        "colab": {}
      },
      "source": [
        "Log_diff"
      ],
      "execution_count": null,
      "outputs": []
    },
    {
      "cell_type": "code",
      "metadata": {
        "id": "pfKQo9qz7jkx",
        "colab_type": "code",
        "colab": {}
      },
      "source": [
        "import matplotlib.pyplot as plt\n",
        "%matplotlib inline\n",
        "#for plotting\n",
        "train = new_data[:(dataset.shape[0] - seq_length)]\n",
        "valid = new_data[(dataset.shape[0] - seq_length):]\n",
        "valid['Predictions'] = Log_diff\n",
        "\n",
        "fig, ax = plt.subplots(figsize=(20,10))\n",
        "ax.plot(train['Log_diff'], label=\"Train\")\n",
        "ax.plot(valid['Log_diff'], label=\"Actual\")\n",
        "ax.plot(valid['Predictions'], label=\"Predictions\")\n",
        "leg = ax.legend()"
      ],
      "execution_count": null,
      "outputs": []
    },
    {
      "cell_type": "code",
      "metadata": {
        "id": "Wu43GAf18Cax",
        "colab_type": "code",
        "colab": {}
      },
      "source": [
        ""
      ],
      "execution_count": null,
      "outputs": []
    }
  ]
}